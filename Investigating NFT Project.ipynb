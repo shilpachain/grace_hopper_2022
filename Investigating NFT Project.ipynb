{
 "cells":[
  {
   "cell_type":"markdown",
   "source":[
    "In this notebook is how you can easily start analysing ETH mainnet data by using only open source resources.\n",
    "\n",
    "Let's start by installing some usuful libraries for the transactions' analysis.\n",
    "Here the link to the documentation https:\/\/web3py.readthedocs.io\/en\/stable\/"
   ],
   "attachments":{
    
   },
   "metadata":{
    "datalore":{
     "type":"MD",
     "hide_input_from_viewers":false,
     "hide_output_from_viewers":false
    }
   }
  },
  {
   "cell_type":"code",
   "source":[
    "!pip install web3==5.25.0\n",
    "!pip install hexbytes==0.2.2"
   ],
   "execution_count":2,
   "outputs":[
    
   ],
   "metadata":{
    "datalore":{
     "type":"CODE",
     "hide_input_from_viewers":false,
     "hide_output_from_viewers":false
    }
   }
  },
  {
   "cell_type":"code",
   "source":[
    "# !pip install  eth-tester"
   ],
   "execution_count":3,
   "outputs":[
    
   ],
   "metadata":{
    "datalore":{
     "type":"CODE",
     "hide_input_from_viewers":false,
     "hide_output_from_viewers":false
    }
   }
  },
  {
   "cell_type":"markdown",
   "source":[
    "In order to run the notebook yourself, you may need to create your own account on a node provider website. Here we show you how we do it on Infura: https:\/\/github.com\/shilpachain\/grace_hopper_2022\/blob\/main\/web3_api_demo_for_analytics.ipynb\n",
    "        "
   ],
   "attachments":{
    
   },
   "metadata":{
    "datalore":{
     "type":"MD",
     "hide_input_from_viewers":false,
     "hide_output_from_viewers":false
    }
   }
  },
  {
   "cell_type":"code",
   "source":[
    "from web3 import Web3\n",
    "from web3.auto import w3\n",
    "from hexbytes import HexBytes\n",
    "import matplotlib.pyplot as plt\n",
    "import seaborn as sns"
   ],
   "execution_count":4,
   "outputs":[
    
   ],
   "metadata":{
    "datalore":{
     "type":"CODE",
     "hide_input_from_viewers":false,
     "hide_output_from_viewers":false
    }
   }
  },
  {
   "cell_type":"markdown",
   "source":[
    "Put your url here."
   ],
   "attachments":{
    
   },
   "metadata":{
    "datalore":{
     "type":"MD",
     "hide_input_from_viewers":false,
     "hide_output_from_viewers":false
    }
   }
  },
  {
   "cell_type":"code",
   "source":[
    "my_url = \"https:\/\/mainnet.infura.io\/v3\/df05abee279947a4aaba6515e5bd982a\""
   ],
   "execution_count":5,
   "outputs":[
    
   ],
   "metadata":{
    "datalore":{
     "type":"CODE",
     "hide_input_from_viewers":false,
     "hide_output_from_viewers":false
    }
   }
  },
  {
   "cell_type":"code",
   "source":[
    "# HTTPProvider:\n",
    "w3 = Web3(Web3.HTTPProvider(my_url))\n",
    "res = w3.isConnected()\n",
    "print(res)"
   ],
   "execution_count":6,
   "outputs":[
    
   ],
   "metadata":{
    "datalore":{
     "type":"CODE",
     "hide_input_from_viewers":false,
     "hide_output_from_viewers":false
    }
   }
  },
  {
   "cell_type":"markdown",
   "source":[
    "Now that we are connected to a node we can access some of the blockchain data. Let's test if the connection is working properly by getting all the transactions in the latest block."
   ],
   "attachments":{
    
   },
   "metadata":{
    "datalore":{
     "type":"MD",
     "hide_input_from_viewers":false,
     "hide_output_from_viewers":false
    }
   }
  },
  {
   "cell_type":"code",
   "source":[
    "w3.eth.get_block('latest')"
   ],
   "execution_count":7,
   "outputs":[
    
   ],
   "metadata":{
    "datalore":{
     "type":"CODE",
     "hide_input_from_viewers":false,
     "hide_output_from_viewers":false
    }
   }
  },
  {
   "cell_type":"markdown",
   "source":[
    "For the subsequent analysis let's focus on one single day July 7th 2022.\n",
    "\n",
    "- First block of July 7th 2022: https:\/\/etherscan.io\/block\/15092101\n",
    "- Last block of July 7th 2022: https:\/\/etherscan.io\/block\/15098519\n",
    "\n",
    "- Total blocks: 6418\n",
    "- Total transactions: 1194064"
   ],
   "attachments":{
    
   },
   "metadata":{
    "datalore":{
     "type":"MD",
     "hide_input_from_viewers":false,
     "hide_output_from_viewers":false
    }
   }
  },
  {
   "cell_type":"code",
   "source":[
    "from datetime import datetime as dt\n",
    "print(f\"{dt.now()}: start\")\n",
    "all_txs = []\n",
    "for block in range(15092101,15098519):\n",
    "    block_rpc = w3.eth.get_block(block)\n",
    "    timestamp = block_rpc['timestamp']\n",
    "    txs = block_rpc['transactions']\n",
    "    for tx in txs:\n",
    "        row = [block, timestamp, w3.toHex(tx)]\n",
    "        all_txs.append(row)\n",
    "\n",
    "\n",
    "print(f\"Total transaction in range found are {len(all_txs)}\")\n",
    "print(f\"{dt.now()}: end\")"
   ],
   "execution_count":8,
   "outputs":[
    
   ],
   "metadata":{
    "datalore":{
     "type":"CODE",
     "hide_input_from_viewers":false,
     "hide_output_from_viewers":false
    }
   }
  },
  {
   "cell_type":"markdown",
   "source":[
    "Let's save all transactions in a pandas dataframe and in a csv file"
   ],
   "attachments":{
    
   },
   "metadata":{
    "datalore":{
     "type":"MD",
     "hide_input_from_viewers":false,
     "hide_output_from_viewers":false
    }
   }
  },
  {
   "cell_type":"code",
   "source":[
    "#all_txs\n",
    "import pandas as pd\n",
    "df = pd.DataFrame(data=all_txs, columns=['block_number', 'block_tiemstamp','transaction_hash'])\n",
    "df.to_csv(\"all_tx_hashes.csv\", index=False)"
   ],
   "execution_count":9,
   "outputs":[
    
   ],
   "metadata":{
    "datalore":{
     "type":"CODE",
     "hide_input_from_viewers":false,
     "hide_output_from_viewers":false
    }
   }
  },
  {
   "cell_type":"code",
   "source":[
    "df"
   ],
   "execution_count":10,
   "outputs":[
    
   ],
   "metadata":{
    "datalore":{
     "type":"CODE",
     "hide_input_from_viewers":false,
     "hide_output_from_viewers":false
    }
   }
  },
  {
   "cell_type":"markdown",
   "source":[
    "#### Analysis of transactions\n",
    "\n",
    "Not all transaction's receipts contain a topic. This is probably because some of them are just transfer of ETH between one address and another.\n",
    "\n",
    "In the following we analyze the first 1000 transactions and get the percentage of pure ETh transfer and percentage of interactions with a smart contract or token transfer."
   ],
   "attachments":{
    
   },
   "metadata":{
    "datalore":{
     "type":"MD",
     "hide_input_from_viewers":false,
     "hide_output_from_viewers":false
    }
   }
  },
  {
   "cell_type":"code",
   "source":[
    "#get transaction receipt for one transaction\n",
    "ETH_transfer = []\n",
    "func_to_add = {}\n",
    "tx_table = pd.DataFrame(columns=['tx_hash','contract_add','func_call','n_topic','topic_0'], \n",
    "                                        index=range(len(df)))\n",
    "for ind, rows in df.iterrows():\n",
    "    tx_hash = rows['transaction_hash']\n",
    "    receipt = w3.eth.get_transaction_receipt(tx_hash)\n",
    "    tx_info = w3.eth.get_transaction(tx_hash)\n",
    "    func_call = tx_info['input'][0:10]\n",
    "    if len(receipt['logs']):\n",
    "        log = receipt['logs'][0]\n",
    "        smart_contract = log['address']\n",
    "        topics = log['topics']\n",
    "        num_topics = len(topics)\n",
    "        print(f\"Number of topics = {num_topics}\")\n",
    "        topic_0 = w3.toHex(topics[0])\n",
    "        tx_table.loc[ind] = pd.Series({'tx_hash':tx_hash,'contract_add': smart_contract,'func_call':func_call,\n",
    "                                            'n_topic': num_topics,'topic_0' : topic_0,})\n",
    "    else:\n",
    "        print('This is probably just a ETH transfer')\n",
    "        ETH_transfer.append(tx_hash)\n",
    "        tx_table.loc[ind] = pd.Series({'tx_hash':tx_hash,'contract_add': 'nan','func_call':func_call,\n",
    "                                            'n_topic': 0,'topic_0' : 'nan',})\n",
    "    \n",
    "    if ind>1000:\n",
    "        break"
   ],
   "execution_count":11,
   "outputs":[
    
   ],
   "metadata":{
    "datalore":{
     "type":"CODE",
     "hide_input_from_viewers":false,
     "hide_output_from_viewers":false
    }
   }
  },
  {
   "cell_type":"code",
   "source":[
    "tx_table"
   ],
   "execution_count":12,
   "outputs":[
    
   ],
   "metadata":{
    "datalore":{
     "type":"CODE",
     "hide_input_from_viewers":false,
     "hide_output_from_viewers":false
    }
   }
  },
  {
   "cell_type":"markdown",
   "source":[
    "Let's give an overview of the amount of topics in each transaction.\n",
    "\n",
    "Around 350 txs have no topics, meaning they are probably only ETH transfers. Most of the txs have 3 topics."
   ],
   "attachments":{
    
   },
   "metadata":{
    "datalore":{
     "type":"MD",
     "hide_input_from_viewers":false,
     "hide_output_from_viewers":false
    }
   }
  },
  {
   "cell_type":"code",
   "source":[
    "\n",
    "fig = sns.histplot(data = tx_table, x = tx_table['n_topic'], stat = \"count\", discrete = True)"
   ],
   "execution_count":13,
   "outputs":[
    
   ],
   "metadata":{
    "datalore":{
     "type":"CODE",
     "hide_input_from_viewers":false,
     "hide_output_from_viewers":false
    }
   }
  },
  {
   "cell_type":"markdown",
   "source":[
    "Let's now group the txs based on the contract name and see on a pie chart wich are the 20 most called contracts. "
   ],
   "attachments":{
    
   },
   "metadata":{
    "datalore":{
     "type":"MD",
     "hide_input_from_viewers":false,
     "hide_output_from_viewers":false
    }
   }
  },
  {
   "cell_type":"code",
   "source":[
    "tx_table[['contract_add','tx_hash','n_topic']].groupby(by = 'contract_add').count().sort_values(by ='tx_hash', ascending = False)"
   ],
   "execution_count":14,
   "outputs":[
    
   ],
   "metadata":{
    "datalore":{
     "type":"CODE",
     "hide_input_from_viewers":false,
     "hide_output_from_viewers":false
    }
   }
  },
  {
   "cell_type":"code",
   "source":[
    "\n",
    "\n",
    "#define data\n",
    "data = tx_table['contract_add'].value_counts().values[:20]\n",
    "labels = tx_table['contract_add'].value_counts().index[:20]\n",
    "red_l = [el[:5] for el in labels]\n",
    "\n",
    "#define Seaborn color palette to use\n",
    "colors = sns.color_palette('pastel')[0:20]\n",
    "\n",
    "#create pie chart\n",
    "plt.pie(data, labels = red_l, colors = colors, autopct='%.0f%%')\n",
    "plt.show()"
   ],
   "execution_count":15,
   "outputs":[
    
   ],
   "metadata":{
    "datalore":{
     "type":"CODE",
     "hide_input_from_viewers":false,
     "hide_output_from_viewers":false
    }
   }
  },
  {
   "cell_type":"markdown",
   "source":[
    "## Statistics on Tx\n",
    "\n",
    "Most of the transactions are simple ETH Transfers. The first most called contract is Tether ERC20 contract. The second most called is https:\/\/opensea.io\/collection\/moondust-official\n",
    "\n",
    "We might study some of the transactions interacting with this contract."
   ],
   "attachments":{
    
   },
   "metadata":{
    "datalore":{
     "type":"MD",
     "hide_input_from_viewers":false,
     "hide_output_from_viewers":false
    }
   }
  },
  {
   "cell_type":"code",
   "source":[
    "moon_dust = tx_table[tx_table['contract_add'] == '0x0B3B95547A22bee3c03Be558eC649dbd69Af8476']"
   ],
   "execution_count":16,
   "outputs":[
    
   ],
   "metadata":{
    "datalore":{
     "type":"CODE",
     "hide_input_from_viewers":false,
     "hide_output_from_viewers":false
    }
   }
  },
  {
   "cell_type":"code",
   "source":[
    "moon_dust"
   ],
   "execution_count":17,
   "outputs":[
    
   ],
   "metadata":{
    "datalore":{
     "type":"CODE",
     "hide_input_from_viewers":false,
     "hide_output_from_viewers":false
    }
   }
  },
  {
   "cell_type":"markdown",
   "source":[
    "#### Most topic_0 are '0xddf252ad1be2c89b69c2b068fc378daa952ba7f163c4a11628f55a4df523b3ef'\n",
    "\n",
    "This is a transfer of a MoonDust Token from one address to another https:\/\/etherscan.io\/tx\/0xab1267fc1da5ac779b4472dd4391e53b25495f8c24a5b9499b5cef84b53f62f3#eventlog\n",
    "\n",
    "The second event is an setApprovalForAll event.\n",
    "https:\/\/etherscan.io\/tx\/0x9cbfac0ba898699283762819e683d7f080f1f1754784a846dd094c804ddf04c7"
   ],
   "attachments":{
    
   },
   "metadata":{
    "datalore":{
     "type":"MD",
     "hide_input_from_viewers":false,
     "hide_output_from_viewers":false
    }
   }
  },
  {
   "cell_type":"code",
   "source":[
    "#define data\n",
    "data = tx_table['topic_0'].value_counts().values[:20]\n",
    "labels = tx_table['topic_0'].value_counts().index[:20]\n",
    "red_l = [el[:5] for el in labels]\n",
    "\n",
    "#define Seaborn color palette to use\n",
    "colors = sns.color_palette('pastel')[0:20]\n",
    "\n",
    "#create pie chart\n",
    "plt.pie(data, labels = red_l, colors = colors, autopct='%.0f%%')\n",
    "plt.show()"
   ],
   "execution_count":18,
   "outputs":[
    
   ],
   "metadata":{
    "datalore":{
     "type":"CODE",
     "hide_input_from_viewers":false,
     "hide_output_from_viewers":false
    }
   }
  },
  {
   "cell_type":"markdown",
   "source":[
    "### Analysis of a specific transaction\n",
    "\n",
    "In this section we will dive deeper in one single transaction and parse the logs."
   ],
   "attachments":{
    
   },
   "metadata":{
    "datalore":{
     "type":"MD",
     "hide_input_from_viewers":false,
     "hide_output_from_viewers":false
    }
   }
  },
  {
   "cell_type":"code",
   "source":[
    "receipt = w3.eth.get_transaction_receipt('0xa803451a0501e0ec4785fdd72deb6cba1c1cbe3675169b4f7b0f0d5e547c9c51')\n",
    "r_input = w3.eth.get_transaction('0xa803451a0501e0ec4785fdd72deb6cba1c1cbe3675169b4f7b0f0d5e547c9c51')"
   ],
   "execution_count":19,
   "outputs":[
    
   ],
   "metadata":{
    "datalore":{
     "type":"CODE",
     "hide_input_from_viewers":false,
     "hide_output_from_viewers":false
    }
   }
  },
  {
   "cell_type":"code",
   "source":[
    "#get the logs\n",
    "if len(receipt['logs']):\n",
    "    log = receipt['logs'][0]\n",
    "else:\n",
    "    print('no contract interaction')"
   ],
   "execution_count":20,
   "outputs":[
    
   ],
   "metadata":{
    "datalore":{
     "type":"CODE",
     "hide_input_from_viewers":false,
     "hide_output_from_viewers":false
    }
   }
  },
  {
   "cell_type":"code",
   "source":[
    "log"
   ],
   "execution_count":21,
   "outputs":[
    
   ],
   "metadata":{
    "datalore":{
     "type":"CODE",
     "hide_input_from_viewers":false,
     "hide_output_from_viewers":false
    }
   }
  },
  {
   "cell_type":"code",
   "source":[
    "#get the smart contract address in the transaction\n",
    "smart_contract = log['address']"
   ],
   "execution_count":22,
   "outputs":[
    
   ],
   "metadata":{
    "datalore":{
     "type":"CODE",
     "hide_input_from_viewers":false,
     "hide_output_from_viewers":false
    }
   }
  },
  {
   "cell_type":"code",
   "source":[
    "smart_contract"
   ],
   "execution_count":23,
   "outputs":[
    
   ],
   "metadata":{
    "datalore":{
     "type":"CODE",
     "hide_input_from_viewers":false,
     "hide_output_from_viewers":false
    }
   }
  },
  {
   "cell_type":"markdown",
   "source":[
    "In order to interpret the ABI related to the specific smartcontract we need an API key from etherscan."
   ],
   "attachments":{
    
   },
   "metadata":{
    "datalore":{
     "type":"MD",
     "hide_input_from_viewers":false,
     "hide_output_from_viewers":false
    }
   }
  },
  {
   "cell_type":"code",
   "source":[
    "API_KEY_me = ''"
   ],
   "execution_count":24,
   "outputs":[
    
   ],
   "metadata":{
    "datalore":{
     "type":"CODE",
     "hide_input_from_viewers":false,
     "hide_output_from_viewers":false
    }
   }
  },
  {
   "cell_type":"code",
   "source":[
    "import requests\n",
    "def get_abi(contract: str, API_KEY: str):\n",
    "    url = f'https:\/\/api.etherscan.io\/api?module=contract&action=getabi&address={contract}&apikey={API_KEY}'\n",
    "    r = requests.get(url)\n",
    "    data_as_dict = r.json()\n",
    "\n",
    "    return(data_as_dict)"
   ],
   "execution_count":25,
   "outputs":[
    
   ],
   "metadata":{
    "datalore":{
     "type":"CODE",
     "hide_input_from_viewers":false,
     "hide_output_from_viewers":false
    }
   }
  },
  {
   "cell_type":"code",
   "source":[
    "#get the abi for the specific contract\n",
    "abi_dict = get_abi(smart_contract, API_KEY_me)"
   ],
   "execution_count":26,
   "outputs":[
    
   ],
   "metadata":{
    "datalore":{
     "type":"CODE",
     "hide_input_from_viewers":false,
     "hide_output_from_viewers":false
    }
   }
  },
  {
   "cell_type":"code",
   "source":[
    "abi_dict"
   ],
   "execution_count":27,
   "outputs":[
    
   ],
   "metadata":{
    "datalore":{
     "type":"CODE",
     "hide_input_from_viewers":false,
     "hide_output_from_viewers":false
    }
   }
  },
  {
   "cell_type":"code",
   "source":[
    "#in result we can read all functions call and event emitted\n",
    "contract = w3.eth.contract(smart_contract, abi=abi_dict[\"result\"])"
   ],
   "execution_count":28,
   "outputs":[
    
   ],
   "metadata":{
    "datalore":{
     "type":"CODE",
     "hide_input_from_viewers":false,
     "hide_output_from_viewers":false
    }
   }
  },
  {
   "cell_type":"markdown",
   "source":[
    "The next command gives the called event for that specific transaction. In this case a \"setApprovalForAll\" event."
   ],
   "attachments":{
    
   },
   "metadata":{
    "datalore":{
     "type":"MD",
     "hide_input_from_viewers":false,
     "hide_output_from_viewers":false
    }
   }
  },
  {
   "cell_type":"code",
   "source":[
    "stringiii = r_input['input']\n",
    "contract.decode_function_input(stringiii)"
   ],
   "execution_count":29,
   "outputs":[
    
   ],
   "metadata":{
    "datalore":{
     "type":"CODE",
     "hide_input_from_viewers":false,
     "hide_output_from_viewers":false
    }
   }
  },
  {
   "cell_type":"code",
   "source":[
    "receipt_event_signature_hex = w3.toHex(log[\"topics\"][0])"
   ],
   "execution_count":30,
   "outputs":[
    
   ],
   "metadata":{
    "datalore":{
     "type":"CODE",
     "hide_input_from_viewers":false,
     "hide_output_from_viewers":false
    }
   }
  },
  {
   "cell_type":"markdown",
   "source":[
    "In particular this the signature"
   ],
   "attachments":{
    
   },
   "metadata":{
    "datalore":{
     "type":"MD",
     "hide_input_from_viewers":false,
     "hide_output_from_viewers":false
    }
   }
  },
  {
   "cell_type":"code",
   "source":[
    "receipt_event_signature_hex"
   ],
   "execution_count":31,
   "outputs":[
    
   ],
   "metadata":{
    "datalore":{
     "type":"CODE",
     "hide_input_from_viewers":false,
     "hide_output_from_viewers":false
    }
   }
  },
  {
   "cell_type":"code",
   "source":[
    "abi_events = [abi for abi in contract.abi if abi[\"type\"] == \"event\"]"
   ],
   "execution_count":32,
   "outputs":[
    
   ],
   "metadata":{
    "datalore":{
     "type":"CODE",
     "hide_input_from_viewers":false,
     "hide_output_from_viewers":false
    }
   }
  },
  {
   "cell_type":"code",
   "source":[
    "abi_events"
   ],
   "execution_count":33,
   "outputs":[
    
   ],
   "metadata":{
    "datalore":{
     "type":"CODE",
     "hide_input_from_viewers":false,
     "hide_output_from_viewers":false
    }
   }
  },
  {
   "cell_type":"code",
   "source":[
    "for event in abi_events:\n",
    "    # Get event signature components\n",
    "    name = event[\"name\"]\n",
    "    inputs = [param[\"type\"] for param in event[\"inputs\"]]\n",
    "    inputs = \",\".join(inputs)\n",
    "    # Hash event signature\n",
    "    event_signature_text = f\"{name}({inputs})\"\n",
    "    event_signature_hex = w3.toHex(w3.keccak(text=event_signature_text))\n",
    "    # Find match between log's event signature and ABI's event signature\n",
    "    if event_signature_hex == receipt_event_signature_hex:\n",
    "        # Decode matching log\n",
    "        decoded_logs = contract.events[event[\"name\"]]().processReceipt(receipt)"
   ],
   "execution_count":34,
   "outputs":[
    
   ],
   "metadata":{
    "datalore":{
     "type":"CODE",
     "hide_input_from_viewers":false,
     "hide_output_from_viewers":false
    }
   }
  },
  {
   "cell_type":"code",
   "source":[
    "decoded_logs"
   ],
   "execution_count":35,
   "outputs":[
    
   ],
   "metadata":{
    "datalore":{
     "type":"CODE",
     "hide_input_from_viewers":false,
     "hide_output_from_viewers":false
    }
   }
  }
 ],
 "metadata":{
  "datalore":{
   "version":1,
   "computation_mode":"JUPYTER",
   "package_manager":"pip",
   "base_environment":"minimal",
   "packages":[
    
   ]
  }
 },
 "nbformat":4,
 "nbformat_minor":4
}